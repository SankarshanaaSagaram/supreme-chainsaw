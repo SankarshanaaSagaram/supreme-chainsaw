{
  "nbformat": 4,
  "nbformat_minor": 0,
  "metadata": {
    "colab": {
      "provenance": []
    },
    "kernelspec": {
      "name": "python3",
      "display_name": "Python 3"
    },
    "language_info": {
      "name": "python"
    }
  },
  "cells": [
    {
      "cell_type": "markdown",
      "source": [
        "# Importing Dependencies"
      ],
      "metadata": {
        "id": "fpB8j-2_Nd-C"
      }
    },
    {
      "cell_type": "code",
      "source": [
        "import pandas as pd\n",
        "import numpy as np\n",
        "import matplotlib.pyplot as plt"
      ],
      "metadata": {
        "id": "du8Wj-fNNh-h"
      },
      "execution_count": 38,
      "outputs": []
    },
    {
      "cell_type": "code",
      "source": [
        "df = pd.read_csv('/content/fashion-mnist_train.csv')"
      ],
      "metadata": {
        "id": "DcpfNJ3NOAaL"
      },
      "execution_count": 39,
      "outputs": []
    },
    {
      "cell_type": "code",
      "source": [
        "df.head()"
      ],
      "metadata": {
        "colab": {
          "base_uri": "https://localhost:8080/",
          "height": 300
        },
        "id": "CYU3BrAhgh4e",
        "outputId": "8cca48c9-a7e4-4800-c92f-6723ecdec71c"
      },
      "execution_count": 40,
      "outputs": [
        {
          "output_type": "execute_result",
          "data": {
            "text/plain": [
              "   label  pixel1  pixel2  pixel3  pixel4  pixel5  pixel6  pixel7  pixel8  \\\n",
              "0      2       0       0       0       0       0       0       0       0   \n",
              "1      9       0       0       0       0       0       0       0       0   \n",
              "2      6       0       0       0       0       0       0       0       5   \n",
              "3      0       0       0       0       1       2       0       0       0   \n",
              "4      3       0       0       0       0       0       0       0       0   \n",
              "\n",
              "   pixel9  ...  pixel775  pixel776  pixel777  pixel778  pixel779  pixel780  \\\n",
              "0       0  ...         0         0         0         0         0         0   \n",
              "1       0  ...         0         0         0         0         0         0   \n",
              "2       0  ...         0         0         0        30        43         0   \n",
              "3       0  ...         3         0         0         0         0         1   \n",
              "4       0  ...         0         0         0         0         0         0   \n",
              "\n",
              "   pixel781  pixel782  pixel783  pixel784  \n",
              "0         0         0         0         0  \n",
              "1         0         0         0         0  \n",
              "2         0         0         0         0  \n",
              "3         0         0         0         0  \n",
              "4         0         0         0         0  \n",
              "\n",
              "[5 rows x 785 columns]"
            ],
            "text/html": [
              "\n",
              "  <div id=\"df-f7517353-d65e-4e77-a88f-2752c3e30960\">\n",
              "    <div class=\"colab-df-container\">\n",
              "      <div>\n",
              "<style scoped>\n",
              "    .dataframe tbody tr th:only-of-type {\n",
              "        vertical-align: middle;\n",
              "    }\n",
              "\n",
              "    .dataframe tbody tr th {\n",
              "        vertical-align: top;\n",
              "    }\n",
              "\n",
              "    .dataframe thead th {\n",
              "        text-align: right;\n",
              "    }\n",
              "</style>\n",
              "<table border=\"1\" class=\"dataframe\">\n",
              "  <thead>\n",
              "    <tr style=\"text-align: right;\">\n",
              "      <th></th>\n",
              "      <th>label</th>\n",
              "      <th>pixel1</th>\n",
              "      <th>pixel2</th>\n",
              "      <th>pixel3</th>\n",
              "      <th>pixel4</th>\n",
              "      <th>pixel5</th>\n",
              "      <th>pixel6</th>\n",
              "      <th>pixel7</th>\n",
              "      <th>pixel8</th>\n",
              "      <th>pixel9</th>\n",
              "      <th>...</th>\n",
              "      <th>pixel775</th>\n",
              "      <th>pixel776</th>\n",
              "      <th>pixel777</th>\n",
              "      <th>pixel778</th>\n",
              "      <th>pixel779</th>\n",
              "      <th>pixel780</th>\n",
              "      <th>pixel781</th>\n",
              "      <th>pixel782</th>\n",
              "      <th>pixel783</th>\n",
              "      <th>pixel784</th>\n",
              "    </tr>\n",
              "  </thead>\n",
              "  <tbody>\n",
              "    <tr>\n",
              "      <th>0</th>\n",
              "      <td>2</td>\n",
              "      <td>0</td>\n",
              "      <td>0</td>\n",
              "      <td>0</td>\n",
              "      <td>0</td>\n",
              "      <td>0</td>\n",
              "      <td>0</td>\n",
              "      <td>0</td>\n",
              "      <td>0</td>\n",
              "      <td>0</td>\n",
              "      <td>...</td>\n",
              "      <td>0</td>\n",
              "      <td>0</td>\n",
              "      <td>0</td>\n",
              "      <td>0</td>\n",
              "      <td>0</td>\n",
              "      <td>0</td>\n",
              "      <td>0</td>\n",
              "      <td>0</td>\n",
              "      <td>0</td>\n",
              "      <td>0</td>\n",
              "    </tr>\n",
              "    <tr>\n",
              "      <th>1</th>\n",
              "      <td>9</td>\n",
              "      <td>0</td>\n",
              "      <td>0</td>\n",
              "      <td>0</td>\n",
              "      <td>0</td>\n",
              "      <td>0</td>\n",
              "      <td>0</td>\n",
              "      <td>0</td>\n",
              "      <td>0</td>\n",
              "      <td>0</td>\n",
              "      <td>...</td>\n",
              "      <td>0</td>\n",
              "      <td>0</td>\n",
              "      <td>0</td>\n",
              "      <td>0</td>\n",
              "      <td>0</td>\n",
              "      <td>0</td>\n",
              "      <td>0</td>\n",
              "      <td>0</td>\n",
              "      <td>0</td>\n",
              "      <td>0</td>\n",
              "    </tr>\n",
              "    <tr>\n",
              "      <th>2</th>\n",
              "      <td>6</td>\n",
              "      <td>0</td>\n",
              "      <td>0</td>\n",
              "      <td>0</td>\n",
              "      <td>0</td>\n",
              "      <td>0</td>\n",
              "      <td>0</td>\n",
              "      <td>0</td>\n",
              "      <td>5</td>\n",
              "      <td>0</td>\n",
              "      <td>...</td>\n",
              "      <td>0</td>\n",
              "      <td>0</td>\n",
              "      <td>0</td>\n",
              "      <td>30</td>\n",
              "      <td>43</td>\n",
              "      <td>0</td>\n",
              "      <td>0</td>\n",
              "      <td>0</td>\n",
              "      <td>0</td>\n",
              "      <td>0</td>\n",
              "    </tr>\n",
              "    <tr>\n",
              "      <th>3</th>\n",
              "      <td>0</td>\n",
              "      <td>0</td>\n",
              "      <td>0</td>\n",
              "      <td>0</td>\n",
              "      <td>1</td>\n",
              "      <td>2</td>\n",
              "      <td>0</td>\n",
              "      <td>0</td>\n",
              "      <td>0</td>\n",
              "      <td>0</td>\n",
              "      <td>...</td>\n",
              "      <td>3</td>\n",
              "      <td>0</td>\n",
              "      <td>0</td>\n",
              "      <td>0</td>\n",
              "      <td>0</td>\n",
              "      <td>1</td>\n",
              "      <td>0</td>\n",
              "      <td>0</td>\n",
              "      <td>0</td>\n",
              "      <td>0</td>\n",
              "    </tr>\n",
              "    <tr>\n",
              "      <th>4</th>\n",
              "      <td>3</td>\n",
              "      <td>0</td>\n",
              "      <td>0</td>\n",
              "      <td>0</td>\n",
              "      <td>0</td>\n",
              "      <td>0</td>\n",
              "      <td>0</td>\n",
              "      <td>0</td>\n",
              "      <td>0</td>\n",
              "      <td>0</td>\n",
              "      <td>...</td>\n",
              "      <td>0</td>\n",
              "      <td>0</td>\n",
              "      <td>0</td>\n",
              "      <td>0</td>\n",
              "      <td>0</td>\n",
              "      <td>0</td>\n",
              "      <td>0</td>\n",
              "      <td>0</td>\n",
              "      <td>0</td>\n",
              "      <td>0</td>\n",
              "    </tr>\n",
              "  </tbody>\n",
              "</table>\n",
              "<p>5 rows × 785 columns</p>\n",
              "</div>\n",
              "      <button class=\"colab-df-convert\" onclick=\"convertToInteractive('df-f7517353-d65e-4e77-a88f-2752c3e30960')\"\n",
              "              title=\"Convert this dataframe to an interactive table.\"\n",
              "              style=\"display:none;\">\n",
              "        \n",
              "  <svg xmlns=\"http://www.w3.org/2000/svg\" height=\"24px\"viewBox=\"0 0 24 24\"\n",
              "       width=\"24px\">\n",
              "    <path d=\"M0 0h24v24H0V0z\" fill=\"none\"/>\n",
              "    <path d=\"M18.56 5.44l.94 2.06.94-2.06 2.06-.94-2.06-.94-.94-2.06-.94 2.06-2.06.94zm-11 1L8.5 8.5l.94-2.06 2.06-.94-2.06-.94L8.5 2.5l-.94 2.06-2.06.94zm10 10l.94 2.06.94-2.06 2.06-.94-2.06-.94-.94-2.06-.94 2.06-2.06.94z\"/><path d=\"M17.41 7.96l-1.37-1.37c-.4-.4-.92-.59-1.43-.59-.52 0-1.04.2-1.43.59L10.3 9.45l-7.72 7.72c-.78.78-.78 2.05 0 2.83L4 21.41c.39.39.9.59 1.41.59.51 0 1.02-.2 1.41-.59l7.78-7.78 2.81-2.81c.8-.78.8-2.07 0-2.86zM5.41 20L4 18.59l7.72-7.72 1.47 1.35L5.41 20z\"/>\n",
              "  </svg>\n",
              "      </button>\n",
              "      \n",
              "  <style>\n",
              "    .colab-df-container {\n",
              "      display:flex;\n",
              "      flex-wrap:wrap;\n",
              "      gap: 12px;\n",
              "    }\n",
              "\n",
              "    .colab-df-convert {\n",
              "      background-color: #E8F0FE;\n",
              "      border: none;\n",
              "      border-radius: 50%;\n",
              "      cursor: pointer;\n",
              "      display: none;\n",
              "      fill: #1967D2;\n",
              "      height: 32px;\n",
              "      padding: 0 0 0 0;\n",
              "      width: 32px;\n",
              "    }\n",
              "\n",
              "    .colab-df-convert:hover {\n",
              "      background-color: #E2EBFA;\n",
              "      box-shadow: 0px 1px 2px rgba(60, 64, 67, 0.3), 0px 1px 3px 1px rgba(60, 64, 67, 0.15);\n",
              "      fill: #174EA6;\n",
              "    }\n",
              "\n",
              "    [theme=dark] .colab-df-convert {\n",
              "      background-color: #3B4455;\n",
              "      fill: #D2E3FC;\n",
              "    }\n",
              "\n",
              "    [theme=dark] .colab-df-convert:hover {\n",
              "      background-color: #434B5C;\n",
              "      box-shadow: 0px 1px 3px 1px rgba(0, 0, 0, 0.15);\n",
              "      filter: drop-shadow(0px 1px 2px rgba(0, 0, 0, 0.3));\n",
              "      fill: #FFFFFF;\n",
              "    }\n",
              "  </style>\n",
              "\n",
              "      <script>\n",
              "        const buttonEl =\n",
              "          document.querySelector('#df-f7517353-d65e-4e77-a88f-2752c3e30960 button.colab-df-convert');\n",
              "        buttonEl.style.display =\n",
              "          google.colab.kernel.accessAllowed ? 'block' : 'none';\n",
              "\n",
              "        async function convertToInteractive(key) {\n",
              "          const element = document.querySelector('#df-f7517353-d65e-4e77-a88f-2752c3e30960');\n",
              "          const dataTable =\n",
              "            await google.colab.kernel.invokeFunction('convertToInteractive',\n",
              "                                                     [key], {});\n",
              "          if (!dataTable) return;\n",
              "\n",
              "          const docLinkHtml = 'Like what you see? Visit the ' +\n",
              "            '<a target=\"_blank\" href=https://colab.research.google.com/notebooks/data_table.ipynb>data table notebook</a>'\n",
              "            + ' to learn more about interactive tables.';\n",
              "          element.innerHTML = '';\n",
              "          dataTable['output_type'] = 'display_data';\n",
              "          await google.colab.output.renderOutput(dataTable, element);\n",
              "          const docLink = document.createElement('div');\n",
              "          docLink.innerHTML = docLinkHtml;\n",
              "          element.appendChild(docLink);\n",
              "        }\n",
              "      </script>\n",
              "    </div>\n",
              "  </div>\n",
              "  "
            ]
          },
          "metadata": {},
          "execution_count": 40
        }
      ]
    },
    {
      "cell_type": "code",
      "source": [
        "df.shape"
      ],
      "metadata": {
        "colab": {
          "base_uri": "https://localhost:8080/"
        },
        "id": "aNjh_Ew7g6Dm",
        "outputId": "d20a9f5e-70fc-4f98-b43c-b4f21cee0950"
      },
      "execution_count": 41,
      "outputs": [
        {
          "output_type": "execute_result",
          "data": {
            "text/plain": [
              "(60000, 785)"
            ]
          },
          "metadata": {},
          "execution_count": 41
        }
      ]
    },
    {
      "cell_type": "code",
      "source": [
        "test_df = pd.read_csv('/content/fashion-mnist_test.csv')"
      ],
      "metadata": {
        "id": "CVOMV_XbgpqZ"
      },
      "execution_count": 44,
      "outputs": []
    },
    {
      "cell_type": "code",
      "source": [
        "test_df.shape"
      ],
      "metadata": {
        "colab": {
          "base_uri": "https://localhost:8080/"
        },
        "id": "mPf5LR9qiYAk",
        "outputId": "cfeee6a8-fb01-4f9c-a7a4-1b5381372376"
      },
      "execution_count": 45,
      "outputs": [
        {
          "output_type": "execute_result",
          "data": {
            "text/plain": [
              "(10000, 785)"
            ]
          },
          "metadata": {},
          "execution_count": 45
        }
      ]
    },
    {
      "cell_type": "code",
      "source": [
        "test_df.head()"
      ],
      "metadata": {
        "colab": {
          "base_uri": "https://localhost:8080/",
          "height": 300
        },
        "id": "ZmbXGpdyiRat",
        "outputId": "abc97531-6907-42aa-9a0d-f01f07058300"
      },
      "execution_count": 46,
      "outputs": [
        {
          "output_type": "execute_result",
          "data": {
            "text/plain": [
              "   label  pixel1  pixel2  pixel3  pixel4  pixel5  pixel6  pixel7  pixel8  \\\n",
              "0      0       0       0       0       0       0       0       0       9   \n",
              "1      1       0       0       0       0       0       0       0       0   \n",
              "2      2       0       0       0       0       0       0      14      53   \n",
              "3      2       0       0       0       0       0       0       0       0   \n",
              "4      3       0       0       0       0       0       0       0       0   \n",
              "\n",
              "   pixel9  ...  pixel775  pixel776  pixel777  pixel778  pixel779  pixel780  \\\n",
              "0       8  ...       103        87        56         0         0         0   \n",
              "1       0  ...        34         0         0         0         0         0   \n",
              "2      99  ...         0         0         0         0        63        53   \n",
              "3       0  ...       137       126       140         0       133       224   \n",
              "4       0  ...         0         0         0         0         0         0   \n",
              "\n",
              "   pixel781  pixel782  pixel783  pixel784  \n",
              "0         0         0         0         0  \n",
              "1         0         0         0         0  \n",
              "2        31         0         0         0  \n",
              "3       222        56         0         0  \n",
              "4         0         0         0         0  \n",
              "\n",
              "[5 rows x 785 columns]"
            ],
            "text/html": [
              "\n",
              "  <div id=\"df-7631de6b-8c12-44c7-a61e-e64c7a58645b\">\n",
              "    <div class=\"colab-df-container\">\n",
              "      <div>\n",
              "<style scoped>\n",
              "    .dataframe tbody tr th:only-of-type {\n",
              "        vertical-align: middle;\n",
              "    }\n",
              "\n",
              "    .dataframe tbody tr th {\n",
              "        vertical-align: top;\n",
              "    }\n",
              "\n",
              "    .dataframe thead th {\n",
              "        text-align: right;\n",
              "    }\n",
              "</style>\n",
              "<table border=\"1\" class=\"dataframe\">\n",
              "  <thead>\n",
              "    <tr style=\"text-align: right;\">\n",
              "      <th></th>\n",
              "      <th>label</th>\n",
              "      <th>pixel1</th>\n",
              "      <th>pixel2</th>\n",
              "      <th>pixel3</th>\n",
              "      <th>pixel4</th>\n",
              "      <th>pixel5</th>\n",
              "      <th>pixel6</th>\n",
              "      <th>pixel7</th>\n",
              "      <th>pixel8</th>\n",
              "      <th>pixel9</th>\n",
              "      <th>...</th>\n",
              "      <th>pixel775</th>\n",
              "      <th>pixel776</th>\n",
              "      <th>pixel777</th>\n",
              "      <th>pixel778</th>\n",
              "      <th>pixel779</th>\n",
              "      <th>pixel780</th>\n",
              "      <th>pixel781</th>\n",
              "      <th>pixel782</th>\n",
              "      <th>pixel783</th>\n",
              "      <th>pixel784</th>\n",
              "    </tr>\n",
              "  </thead>\n",
              "  <tbody>\n",
              "    <tr>\n",
              "      <th>0</th>\n",
              "      <td>0</td>\n",
              "      <td>0</td>\n",
              "      <td>0</td>\n",
              "      <td>0</td>\n",
              "      <td>0</td>\n",
              "      <td>0</td>\n",
              "      <td>0</td>\n",
              "      <td>0</td>\n",
              "      <td>9</td>\n",
              "      <td>8</td>\n",
              "      <td>...</td>\n",
              "      <td>103</td>\n",
              "      <td>87</td>\n",
              "      <td>56</td>\n",
              "      <td>0</td>\n",
              "      <td>0</td>\n",
              "      <td>0</td>\n",
              "      <td>0</td>\n",
              "      <td>0</td>\n",
              "      <td>0</td>\n",
              "      <td>0</td>\n",
              "    </tr>\n",
              "    <tr>\n",
              "      <th>1</th>\n",
              "      <td>1</td>\n",
              "      <td>0</td>\n",
              "      <td>0</td>\n",
              "      <td>0</td>\n",
              "      <td>0</td>\n",
              "      <td>0</td>\n",
              "      <td>0</td>\n",
              "      <td>0</td>\n",
              "      <td>0</td>\n",
              "      <td>0</td>\n",
              "      <td>...</td>\n",
              "      <td>34</td>\n",
              "      <td>0</td>\n",
              "      <td>0</td>\n",
              "      <td>0</td>\n",
              "      <td>0</td>\n",
              "      <td>0</td>\n",
              "      <td>0</td>\n",
              "      <td>0</td>\n",
              "      <td>0</td>\n",
              "      <td>0</td>\n",
              "    </tr>\n",
              "    <tr>\n",
              "      <th>2</th>\n",
              "      <td>2</td>\n",
              "      <td>0</td>\n",
              "      <td>0</td>\n",
              "      <td>0</td>\n",
              "      <td>0</td>\n",
              "      <td>0</td>\n",
              "      <td>0</td>\n",
              "      <td>14</td>\n",
              "      <td>53</td>\n",
              "      <td>99</td>\n",
              "      <td>...</td>\n",
              "      <td>0</td>\n",
              "      <td>0</td>\n",
              "      <td>0</td>\n",
              "      <td>0</td>\n",
              "      <td>63</td>\n",
              "      <td>53</td>\n",
              "      <td>31</td>\n",
              "      <td>0</td>\n",
              "      <td>0</td>\n",
              "      <td>0</td>\n",
              "    </tr>\n",
              "    <tr>\n",
              "      <th>3</th>\n",
              "      <td>2</td>\n",
              "      <td>0</td>\n",
              "      <td>0</td>\n",
              "      <td>0</td>\n",
              "      <td>0</td>\n",
              "      <td>0</td>\n",
              "      <td>0</td>\n",
              "      <td>0</td>\n",
              "      <td>0</td>\n",
              "      <td>0</td>\n",
              "      <td>...</td>\n",
              "      <td>137</td>\n",
              "      <td>126</td>\n",
              "      <td>140</td>\n",
              "      <td>0</td>\n",
              "      <td>133</td>\n",
              "      <td>224</td>\n",
              "      <td>222</td>\n",
              "      <td>56</td>\n",
              "      <td>0</td>\n",
              "      <td>0</td>\n",
              "    </tr>\n",
              "    <tr>\n",
              "      <th>4</th>\n",
              "      <td>3</td>\n",
              "      <td>0</td>\n",
              "      <td>0</td>\n",
              "      <td>0</td>\n",
              "      <td>0</td>\n",
              "      <td>0</td>\n",
              "      <td>0</td>\n",
              "      <td>0</td>\n",
              "      <td>0</td>\n",
              "      <td>0</td>\n",
              "      <td>...</td>\n",
              "      <td>0</td>\n",
              "      <td>0</td>\n",
              "      <td>0</td>\n",
              "      <td>0</td>\n",
              "      <td>0</td>\n",
              "      <td>0</td>\n",
              "      <td>0</td>\n",
              "      <td>0</td>\n",
              "      <td>0</td>\n",
              "      <td>0</td>\n",
              "    </tr>\n",
              "  </tbody>\n",
              "</table>\n",
              "<p>5 rows × 785 columns</p>\n",
              "</div>\n",
              "      <button class=\"colab-df-convert\" onclick=\"convertToInteractive('df-7631de6b-8c12-44c7-a61e-e64c7a58645b')\"\n",
              "              title=\"Convert this dataframe to an interactive table.\"\n",
              "              style=\"display:none;\">\n",
              "        \n",
              "  <svg xmlns=\"http://www.w3.org/2000/svg\" height=\"24px\"viewBox=\"0 0 24 24\"\n",
              "       width=\"24px\">\n",
              "    <path d=\"M0 0h24v24H0V0z\" fill=\"none\"/>\n",
              "    <path d=\"M18.56 5.44l.94 2.06.94-2.06 2.06-.94-2.06-.94-.94-2.06-.94 2.06-2.06.94zm-11 1L8.5 8.5l.94-2.06 2.06-.94-2.06-.94L8.5 2.5l-.94 2.06-2.06.94zm10 10l.94 2.06.94-2.06 2.06-.94-2.06-.94-.94-2.06-.94 2.06-2.06.94z\"/><path d=\"M17.41 7.96l-1.37-1.37c-.4-.4-.92-.59-1.43-.59-.52 0-1.04.2-1.43.59L10.3 9.45l-7.72 7.72c-.78.78-.78 2.05 0 2.83L4 21.41c.39.39.9.59 1.41.59.51 0 1.02-.2 1.41-.59l7.78-7.78 2.81-2.81c.8-.78.8-2.07 0-2.86zM5.41 20L4 18.59l7.72-7.72 1.47 1.35L5.41 20z\"/>\n",
              "  </svg>\n",
              "      </button>\n",
              "      \n",
              "  <style>\n",
              "    .colab-df-container {\n",
              "      display:flex;\n",
              "      flex-wrap:wrap;\n",
              "      gap: 12px;\n",
              "    }\n",
              "\n",
              "    .colab-df-convert {\n",
              "      background-color: #E8F0FE;\n",
              "      border: none;\n",
              "      border-radius: 50%;\n",
              "      cursor: pointer;\n",
              "      display: none;\n",
              "      fill: #1967D2;\n",
              "      height: 32px;\n",
              "      padding: 0 0 0 0;\n",
              "      width: 32px;\n",
              "    }\n",
              "\n",
              "    .colab-df-convert:hover {\n",
              "      background-color: #E2EBFA;\n",
              "      box-shadow: 0px 1px 2px rgba(60, 64, 67, 0.3), 0px 1px 3px 1px rgba(60, 64, 67, 0.15);\n",
              "      fill: #174EA6;\n",
              "    }\n",
              "\n",
              "    [theme=dark] .colab-df-convert {\n",
              "      background-color: #3B4455;\n",
              "      fill: #D2E3FC;\n",
              "    }\n",
              "\n",
              "    [theme=dark] .colab-df-convert:hover {\n",
              "      background-color: #434B5C;\n",
              "      box-shadow: 0px 1px 3px 1px rgba(0, 0, 0, 0.15);\n",
              "      filter: drop-shadow(0px 1px 2px rgba(0, 0, 0, 0.3));\n",
              "      fill: #FFFFFF;\n",
              "    }\n",
              "  </style>\n",
              "\n",
              "      <script>\n",
              "        const buttonEl =\n",
              "          document.querySelector('#df-7631de6b-8c12-44c7-a61e-e64c7a58645b button.colab-df-convert');\n",
              "        buttonEl.style.display =\n",
              "          google.colab.kernel.accessAllowed ? 'block' : 'none';\n",
              "\n",
              "        async function convertToInteractive(key) {\n",
              "          const element = document.querySelector('#df-7631de6b-8c12-44c7-a61e-e64c7a58645b');\n",
              "          const dataTable =\n",
              "            await google.colab.kernel.invokeFunction('convertToInteractive',\n",
              "                                                     [key], {});\n",
              "          if (!dataTable) return;\n",
              "\n",
              "          const docLinkHtml = 'Like what you see? Visit the ' +\n",
              "            '<a target=\"_blank\" href=https://colab.research.google.com/notebooks/data_table.ipynb>data table notebook</a>'\n",
              "            + ' to learn more about interactive tables.';\n",
              "          element.innerHTML = '';\n",
              "          dataTable['output_type'] = 'display_data';\n",
              "          await google.colab.output.renderOutput(dataTable, element);\n",
              "          const docLink = document.createElement('div');\n",
              "          docLink.innerHTML = docLinkHtml;\n",
              "          element.appendChild(docLink);\n",
              "        }\n",
              "      </script>\n",
              "    </div>\n",
              "  </div>\n",
              "  "
            ]
          },
          "metadata": {},
          "execution_count": 46
        }
      ]
    },
    {
      "cell_type": "markdown",
      "source": [
        "##Data Preperation"
      ],
      "metadata": {
        "id": "2yVDcS4N75dC"
      }
    },
    {
      "cell_type": "code",
      "source": [
        "#shuffling data before splittting into train and dev\n",
        "df = np.array(df)\n",
        "m,n = df.shape\n",
        "np.random.shuffle(df)"
      ],
      "metadata": {
        "id": "B4jSOKR95YKB"
      },
      "execution_count": 47,
      "outputs": []
    },
    {
      "cell_type": "code",
      "source": [
        "#data into proper matrix format required\n",
        "df_dev = df[0:1000].T\n",
        "Y_dev = df_dev\n",
        "X_dev = df_dev[1:n]\n",
        "X_dev = X_dev/255"
      ],
      "metadata": {
        "id": "ml-0El3vuKCK"
      },
      "execution_count": 48,
      "outputs": []
    },
    {
      "cell_type": "code",
      "source": [
        "train_df = df[1000:m].T\n",
        "Y_train = train_df[0]\n",
        "X_train = train_df[1:n]\n",
        "X_train = X_train/255"
      ],
      "metadata": {
        "id": "WWBkPlbvuJ-B"
      },
      "execution_count": 49,
      "outputs": []
    },
    {
      "cell_type": "code",
      "source": [
        "X_train[:,0].shape"
      ],
      "metadata": {
        "colab": {
          "base_uri": "https://localhost:8080/"
        },
        "id": "iEAwPVbk7Xkv",
        "outputId": "3ec4f865-8748-42a4-c00d-651ca442df1f"
      },
      "execution_count": 50,
      "outputs": [
        {
          "output_type": "execute_result",
          "data": {
            "text/plain": [
              "(784,)"
            ]
          },
          "metadata": {},
          "execution_count": 50
        }
      ]
    },
    {
      "cell_type": "markdown",
      "source": [
        "##Model Building"
      ],
      "metadata": {
        "id": "A7Vpd2mr8C6w"
      }
    },
    {
      "cell_type": "code",
      "source": [
        "#initializing weights and biases\n",
        "def init_params():\n",
        "    \n",
        "    w1 = np.random.uniform(-0.5,0.5,size = (10,784))\n",
        "    b1 = np.random.uniform(-0.5,0.5, size = (10,1))\n",
        "    w2 = np.random.uniform(-0.5,0.5,size = (10,10))\n",
        "    b2 = np.random.uniform(-0.5,0.5, size = (10,1))\n",
        "    return w1,b1,w2,b2"
      ],
      "metadata": {
        "id": "pNME1jvyyyZZ"
      },
      "execution_count": 51,
      "outputs": []
    },
    {
      "cell_type": "code",
      "source": [
        "#using relu activatiuon function\n",
        "def ReLU(Z):\n",
        "    return np.maximum(Z, 0)"
      ],
      "metadata": {
        "id": "CgGnvS8ZuRWI"
      },
      "execution_count": 52,
      "outputs": []
    },
    {
      "cell_type": "code",
      "source": [
        "#using softmax to categorically sort output values from 0-9 categories\n",
        "def softmax(Z):\n",
        "    A = np.exp(Z) / np.sum(np.exp(Z), axis = 0)\n",
        "    return A"
      ],
      "metadata": {
        "id": "j1YWnRt4uRSx"
      },
      "execution_count": 53,
      "outputs": []
    },
    {
      "cell_type": "code",
      "source": [
        "#getting outputs in forward propogation\n",
        "def forward_prop(W1, b1, W2, b2, X):\n",
        "    Z1 = W1.dot(X) + b1\n",
        "    A1 = ReLU(Z1)\n",
        "    Z2 = W2.dot(A1) + b2\n",
        "    A2 = softmax(Z2)\n",
        "    return Z1, A1, Z2, A2"
      ],
      "metadata": {
        "id": "v6KsSdVDuRLd"
      },
      "execution_count": 54,
      "outputs": []
    },
    {
      "cell_type": "code",
      "source": [
        "#derivitive of relu function\n",
        "def ReLU_deriv(Z):\n",
        "    return Z > 0"
      ],
      "metadata": {
        "id": "-3DJD39iuRH0"
      },
      "execution_count": 55,
      "outputs": []
    },
    {
      "cell_type": "code",
      "source": [
        "#function to convert the output into binary(0,1) \n",
        "def one_hot(Y):\n",
        "    one_hot_Y = np.zeros((Y.size, Y.max() + 1))\n",
        "    one_hot_Y[np.arange(Y.size), Y] = 1\n",
        "    one_hot_Y = one_hot_Y.T\n",
        "    return one_hot_Y"
      ],
      "metadata": {
        "id": "5oPvPWBDuREM"
      },
      "execution_count": 56,
      "outputs": []
    },
    {
      "cell_type": "code",
      "source": [
        "#introducing L2 regularization parameter and loss functions in this back propogation function\n",
        "def backprop(Z1,A1,Z2,A2,X,Y,w2,reg_par):\n",
        "    m = Y.size\n",
        "    one_hot_Y = one_hot(Y)\n",
        "    l2_reg_exp = (1/(2*m))*reg_par*(np.sum(np.square(W2)) + np.sum(np.square(W1)))\n",
        "    dZ2 = (A2 - one_hot_Y) + l2_reg_exp\n",
        "    loss = np.sum((A2-one_hot_Y)) + l2_reg_exp\n",
        "    dW2 = 1/m*(dZ2.dot(A1.T)) + 1/m*reg_par*np.sum(W2)\n",
        "    \n",
        "    db2 = 1/m*(np.sum(dZ2)) \n",
        "    \n",
        "    dZ1 = W2.T.dot(dZ2)*ReLU_deriv(Z1) \n",
        "    \n",
        "    dW1 = 1/m*(dZ2.dot(X.T))+ 1/m*reg_par*np.sum(W1)\n",
        "    \n",
        "    db1 = 1/m*(np.sum(dZ1))\n",
        "    return dW1,dW2,db1,db2,loss"
      ],
      "metadata": {
        "id": "DRA9ndcI1azW"
      },
      "execution_count": 66,
      "outputs": []
    },
    {
      "cell_type": "code",
      "source": [
        "#dW1,dW2,db1,db2,loss = backward_prop(Z1,A1,Z2,A2,X_train,Y_train,W2,0.01)"
      ],
      "metadata": {
        "id": "blKzE6G4vO-B"
      },
      "execution_count": 59,
      "outputs": []
    },
    {
      "cell_type": "code",
      "source": [
        "#updating parameters after backpropogation\n",
        "def update_params(W1, b1, W2, b2, dW1, db1, dW2, db2, alpha):\n",
        "    W1 = W1 - alpha * dW1\n",
        "    b1 = b1 - alpha * db1    \n",
        "    W2 = W2 - alpha * dW2  \n",
        "    b2 = b2 - alpha * db2    \n",
        "    return W1, b1, W2, b2"
      ],
      "metadata": {
        "id": "127TUqu8vOwf"
      },
      "execution_count": 67,
      "outputs": []
    },
    {
      "cell_type": "code",
      "source": [
        "def get_predictions(A2):\n",
        "    return np.argmax(A2, 0)"
      ],
      "metadata": {
        "id": "NMsOw_cA8fgn"
      },
      "execution_count": 68,
      "outputs": []
    },
    {
      "cell_type": "code",
      "source": [
        "def get_accuracy(predictions, Y):\n",
        "    print(predictions, Y)\n",
        "    return np.sum(predictions == Y) / Y.size"
      ],
      "metadata": {
        "id": "S-ZBjXgYuhea"
      },
      "execution_count": 69,
      "outputs": []
    },
    {
      "cell_type": "code",
      "source": [
        "from sklearn.metrics import accuracy_score"
      ],
      "metadata": {
        "id": "1TG75i3Z3fN_"
      },
      "execution_count": 72,
      "outputs": []
    },
    {
      "cell_type": "code",
      "source": [
        "#using gradient descent method to optimize model and reduce loss\n",
        "def gradient_descent(X,Y,alpha,iterations):\n",
        "    W1,b1,W2,b2 = init_params()\n",
        "    reg_par = 0.01\n",
        "    for i in range(iterations):\n",
        "        Z1,A1,Z2,A2 = forward_prop(W1,b1,W2,b2,X)\n",
        "        dW1,dW2,db1,db2,loss = backprop(Z1,A1,Z2,A2,X,Y,W2,reg_par)\n",
        "        W1,b1,W2,b2 = update_params(W1,b1,W2,b2,dW1,db1,dW2,db2,alpha)\n",
        "        arg_A2 = get_predictions(A2)\n",
        "        # printing the accuracy and loss of model after every 100 iterations\n",
        "        if i%100 == 0 :\n",
        "            print('Iteration', i)\n",
        "            print('Accuracy',accuracy_score(arg_A2, Y))\n",
        "            print('The loss is:',loss)\n",
        "    return W1,b1,W2,b2"
      ],
      "metadata": {
        "id": "DLBdK85x2Zbp"
      },
      "execution_count": 73,
      "outputs": []
    },
    {
      "cell_type": "code",
      "source": [
        "# training model with learning rate 0.1 for 2000 iteration\n",
        "#any higher learning rate made the predicted minima to overshoot or undershoot\n",
        "W1, b1, W2, b2 = gradient_descent(X_train, Y_train, 0.1 ,2000)"
      ],
      "metadata": {
        "id": "Z3okAsrX8jnn",
        "colab": {
          "base_uri": "https://localhost:8080/"
        },
        "outputId": "0146aea3-a9bb-4cb9-f889-2458f09b0909"
      },
      "execution_count": 81,
      "outputs": [
        {
          "output_type": "stream",
          "name": "stdout",
          "text": [
            "Iteration 0\n",
            "Accuracy 0.12047457627118643\n",
            "The loss is: 6.159155012229558e-05\n",
            "Iteration 100\n",
            "Accuracy 0.6842881355932203\n",
            "The loss is: 6.15915516944824e-05\n",
            "Iteration 200\n",
            "Accuracy 0.7061525423728814\n",
            "The loss is: 6.159155243155947e-05\n",
            "Iteration 300\n",
            "Accuracy 0.7258983050847457\n",
            "The loss is: 6.159155329176027e-05\n",
            "Iteration 400\n",
            "Accuracy 0.7359830508474576\n",
            "The loss is: 6.159155116668238e-05\n",
            "Iteration 500\n",
            "Accuracy 0.7436101694915255\n",
            "The loss is: 6.159155146244579e-05\n",
            "Iteration 600\n",
            "Accuracy 0.7412881355932204\n",
            "The loss is: 6.159155104922078e-05\n",
            "Iteration 700\n",
            "Accuracy 0.754864406779661\n",
            "The loss is: 6.159155139405605e-05\n",
            "Iteration 800\n",
            "Accuracy 0.7581694915254237\n",
            "The loss is: 6.15915513992741e-05\n",
            "Iteration 900\n",
            "Accuracy 0.758728813559322\n",
            "The loss is: 6.159155182432299e-05\n",
            "Iteration 1000\n",
            "Accuracy 0.7693389830508475\n",
            "The loss is: 6.159155158423726e-05\n",
            "Iteration 1100\n",
            "Accuracy 0.7371186440677966\n",
            "The loss is: 6.159155326400469e-05\n",
            "Iteration 1200\n",
            "Accuracy 0.7490508474576271\n",
            "The loss is: 6.159155055256251e-05\n",
            "Iteration 1300\n",
            "Accuracy 0.7522203389830509\n",
            "The loss is: 6.159155111727745e-05\n",
            "Iteration 1400\n",
            "Accuracy 0.7574915254237288\n",
            "The loss is: 6.159155147110553e-05\n",
            "Iteration 1500\n",
            "Accuracy 0.7575593220338983\n",
            "The loss is: 6.15915502120016e-05\n",
            "Iteration 1600\n",
            "Accuracy 0.7619322033898305\n",
            "The loss is: 6.159155081041181e-05\n",
            "Iteration 1700\n",
            "Accuracy 0.7609491525423728\n",
            "The loss is: 6.15915523689984e-05\n",
            "Iteration 1800\n",
            "Accuracy 0.7622711864406779\n",
            "The loss is: 6.159155272088359e-05\n",
            "Iteration 1900\n",
            "Accuracy 0.7669830508474577\n",
            "The loss is: 6.159155381267691e-05\n"
          ]
        }
      ]
    },
    {
      "cell_type": "code",
      "source": [
        "#We had to use a lot of iterations to get to 76.6% accuracy without minimizing loss. Hence we have to introduce some hyper parameters to ptimize this model and have more variables that we can control."
      ],
      "metadata": {
        "id": "ViA_riWCBAwH"
      },
      "execution_count": null,
      "outputs": []
    },
    {
      "cell_type": "code",
      "source": [
        "#fiinal prediction into class of objects\n",
        "def make_predictions(X, W1, b1, W2, b2):\n",
        "    _, _, _, A2 = forward_prop(W1, b1, W2, b2, X)\n",
        "    predictions = get_predictions(A2)\n",
        "    return predictions\n",
        "\n",
        "def test_prediction(index, W1, b1, W2, b2):\n",
        "    current_image = X_train[:, index, None]\n",
        "    prediction = make_predictions(X_train[:, index, None], W1, b1, W2, b2)\n",
        "    label = Y_train[index]\n",
        "    print(\"Prediction: \", prediction)\n",
        "    print(\"Label: \", label)\n",
        "    \n",
        "    current_image = current_image.reshape((28, 28)) * 255\n",
        "    #plt.gray()\n",
        "    plt.imshow(current_image, interpolation='nearest')\n",
        "    plt.show()"
      ],
      "metadata": {
        "id": "3RGLhsa3-vGW"
      },
      "execution_count": 82,
      "outputs": []
    },
    {
      "cell_type": "code",
      "source": [
        "#predictions with differant test examples\n",
        "test_prediction(120, W1, b1, W2, b2)\n",
        "test_prediction(100, W1, b1, W2, b2)\n",
        "test_prediction(28,W1, b1, W2, b2)\n",
        "test_prediction(87, W1, b1, W2, b2)"
      ],
      "metadata": {
        "id": "CgloYeFZ-1rb",
        "colab": {
          "base_uri": "https://localhost:8080/",
          "height": 1000
        },
        "outputId": "4da74760-a029-47d2-851b-ce965d27b5b7"
      },
      "execution_count": 83,
      "outputs": [
        {
          "output_type": "stream",
          "name": "stdout",
          "text": [
            "Prediction:  [2]\n",
            "Label:  2\n"
          ]
        },
        {
          "output_type": "display_data",
          "data": {
            "text/plain": [
              "<Figure size 432x288 with 1 Axes>"
            ],
            "image/png": "[encoded data removed]"
          },
          "metadata": {
            "needs_background": "light"
          }
        },
        {
          "output_type": "stream",
          "name": "stdout",
          "text": [
            "Prediction:  [5]\n",
            "Label:  5\n"
          ]
        },
        {
          "output_type": "display_data",
          "data": {
            "text/plain": [
              "<Figure size 432x288 with 1 Axes>"
            ],
            "image/png": "[encoded data removed]"
          },
          "metadata": {
            "needs_background": "light"
          }
        },
        {
          "output_type": "stream",
          "name": "stdout",
          "text": [
            "Prediction:  [3]\n",
            "Label:  3\n"
          ]
        },
        {
          "output_type": "display_data",
          "data": {
            "text/plain": [
              "<Figure size 432x288 with 1 Axes>"
            ],
            "image/png": "[encoded data removed]"
          },
          "metadata": {
            "needs_background": "light"
          }
        },
        {
          "output_type": "stream",
          "name": "stdout",
          "text": [
            "Prediction:  [4]\n",
            "Label:  4\n"
          ]
        },
        {
          "output_type": "display_data",
          "data": {
            "text/plain": [
              "<Figure size 432x288 with 1 Axes>"
            ],
            "image/png": "[encoded data removed]"
          },
          "metadata": {
            "needs_background": "light"
          }
        }
      ]
    },
    {
      "cell_type": "code",
      "source": [
        "#running model to dev dataset. As we can see the model has overfit to the training data as we have a very small accuracy score for dev set.\n",
        "dev_predictions = make_predictions(X_dev, W1, b1, W2, b2)\n",
        "get_accuracy(dev_predictions, Y_dev)"
      ],
      "metadata": {
        "id": "T5GUqHTM-8B9",
        "colab": {
          "base_uri": "https://localhost:8080/"
        },
        "outputId": "f3358cfe-5321-42d4-82dd-1ea2a9569697"
      },
      "execution_count": 84,
      "outputs": [
        {
          "output_type": "stream",
          "name": "stdout",
          "text": [
            "[8 2 7 0 1 0 2 6 9 4 9 4 8 0 5 7 3 4 8 2 0 9 2 0 2 0 2 8 9 9 0 0 7 4 9 4 8\n",
            " 7 0 7 5 2 8 4 2 2 7 2 5 1 7 3 4 7 8 0 0 3 5 7 0 8 0 3 0 2 8 0 0 0 0 5 2 4\n",
            " 7 1 5 5 1 5 6 1 4 4 8 3 2 1 5 5 8 4 3 8 8 5 0 4 5 7 1 7 7 5 9 1 2 4 3 5 0\n",
            " 9 2 9 4 2 4 6 8 8 4 4 8 5 2 5 4 4 6 0 2 0 5 4 4 8 2 3 1 0 7 0 3 3 8 5 9 4\n",
            " 4 8 0 2 4 1 0 4 0 9 9 6 8 5 8 2 0 4 3 0 0 9 0 0 8 1 5 8 8 2 0 5 7 4 9 5 3\n",
            " 1 0 4 2 7 4 8 5 4 2 4 5 1 9 2 1 4 1 0 1 3 7 0 9 2 0 4 4 8 0 7 9 4 6 0 4 5\n",
            " 7 4 2 8 2 9 0 8 9 7 0 4 0 0 0 6 9 5 9 4 4 8 3 7 6 0 3 7 8 3 2 4 4 9 7 2 8\n",
            " 5 8 7 7 1 4 7 0 8 1 9 8 5 0 0 9 4 5 5 0 1 3 2 5 4 9 7 3 2 4 5 2 0 9 0 9 5\n",
            " 7 3 4 4 4 9 8 7 4 8 4 2 4 7 8 0 4 3 4 5 5 7 5 1 0 3 7 0 0 2 1 8 7 9 4 4 9\n",
            " 0 2 3 4 5 3 0 4 4 1 5 3 9 9 1 3 2 8 0 7 3 2 0 3 8 7 9 2 4 9 4 9 5 6 6 0 4\n",
            " 2 1 7 2 4 1 4 5 1 9 1 6 0 1 5 1 6 4 3 0 0 2 7 4 5 3 9 4 6 4 7 4 0 7 8 6 8\n",
            " 1 0 0 9 2 8 9 0 5 5 8 7 4 1 4 9 1 8 6 0 7 5 4 3 0 1 1 7 2 8 7 1 4 3 8 9 3\n",
            " 5 3 1 4 4 5 2 8 8 6 2 4 0 3 8 2 0 2 9 5 9 8 3 7 6 1 0 2 9 3 7 3 4 0 4 5 8\n",
            " 9 0 0 9 8 8 0 6 5 7 9 4 4 8 4 5 7 4 3 9 8 4 7 9 4 3 6 9 3 0 7 3 0 7 2 9 1\n",
            " 0 5 3 7 4 3 4 2 4 0 4 4 0 5 0 4 4 1 4 7 5 4 0 9 0 4 4 2 1 0 0 5 7 3 5 3 4\n",
            " 7 0 5 1 0 9 4 8 9 7 2 4 0 0 4 8 5 0 4 1 2 4 3 9 0 9 0 1 8 7 7 2 3 4 3 4 0\n",
            " 0 4 1 5 8 5 3 5 7 4 1 7 0 3 1 8 7 3 0 0 7 2 5 1 0 5 1 7 6 1 5 7 9 9 7 9 2\n",
            " 1 9 4 8 4 5 7 5 1 4 6 4 4 9 8 8 9 8 7 1 1 7 5 0 3 1 8 7 4 9 8 9 1 1 7 0 4\n",
            " 9 0 4 3 8 0 4 3 9 7 0 4 0 2 7 4 9 1 8 5 6 7 5 2 2 4 3 1 9 6 4 5 3 9 3 5 5\n",
            " 4 8 5 4 4 2 9 7 4 5 1 4 9 4 3 8 5 3 4 0 8 8 7 7 1 0 7 4 3 3 3 8 2 9 0 8 9\n",
            " 6 9 9 0 8 0 1 0 4 1 2 4 4 3 0 9 3 8 1 9 7 0 8 1 0 5 5 7 5 7 6 2 0 7 4 4 9\n",
            " 7 0 1 5 9 1 7 2 2 9 0 2 9 4 3 2 5 9 1 0 8 4 0 7 3 3 0 7 2 1 8 6 4 9 1 4 4\n",
            " 0 4 7 7 1 8 1 0 7 2 5 3 1 2 1 0 5 3 7 3 5 3 2 2 6 9 7 3 9 1 3 9 2 4 1 4 5\n",
            " 0 5 2 1 8 4 7 7 2 0 1 8 5 0 4 4 1 0 0 5 1 5 1 9 4 5 0 4 0 0 8 8 6 1 9 3 0\n",
            " 7 4 7 1 3 0 4 0 0 0 0 5 4 8 9 3 0 1 3 3 1 7 3 8 3 4 4 1 8 9 3 4 9 4 7 4 8\n",
            " 8 4 4 2 4 7 4 1 4 1 2 4 7 0 8 9 4 1 4 7 8 7 4 4 4 8 9 1 9 0 2 8 7 5 1 3 9\n",
            " 5 5 0 3 2 9 8 0 9 8 0 7 1 6 4 7 9 0 5 0 0 1 4 9 4 8 2 8 7 4 4 5 2 0 5 0 1\n",
            " 5] [[8 2 7 ... 0 1 7]\n",
            " [0 0 0 ... 0 0 0]\n",
            " [0 0 0 ... 0 0 0]\n",
            " ...\n",
            " [0 0 0 ... 0 0 0]\n",
            " [0 0 0 ... 0 0 0]\n",
            " [0 0 0 ... 0 0 0]]\n"
          ]
        },
        {
          "output_type": "execute_result",
          "data": {
            "text/plain": [
              "0.06347643312101911"
            ]
          },
          "metadata": {},
          "execution_count": 84
        }
      ]
    }
  ]
}